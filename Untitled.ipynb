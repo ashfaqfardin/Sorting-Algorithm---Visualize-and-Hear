{
 "cells": [
  {
   "cell_type": "code",
   "execution_count": 1,
   "id": "232e6f2a",
   "metadata": {},
   "outputs": [
    {
     "name": "stdout",
     "output_type": "stream",
     "text": [
      "enter array size\n",
      "10\n"
     ]
    },
    {
     "name": "stderr",
     "output_type": "stream",
     "text": [
      "C:\\Users\\MY PC\\AppData\\Local\\Temp\\ipykernel_5500\\1647888370.py:86: UserWarning: frames=<generator object insertionsort at 0x0000018E50CFB640> which we can infer the length of, did not pass an explicit *save_count* and passed cache_frame_data=True.  To avoid a possibly unbounded cache, frame data caching has been disabled. To suppress this warning either pass `cache_frame_data=False` or `save_count=MAX_FRAMES`.\n",
      "  anim = FuncAnimation(fig, func=animate,\n"
     ]
    },
    {
     "data": {
      "image/png": "[encoded data removed]",
      "text/plain": [
       "<Figure size 640x480 with 1 Axes>"
      ]
     },
     "metadata": {},
     "output_type": "display_data"
    }
   ],
   "source": [
    "# import all the modules \n",
    "import matplotlib.pyplot as plt \n",
    "from matplotlib.animation import FuncAnimation \n",
    "import matplotlib as mp \n",
    "import numpy as np \n",
    "import random \n",
    "\n",
    "# set the style of the graph \n",
    "plt.style.use('fivethirtyeight') \n",
    "\n",
    "# input the size of the array (list here) \n",
    "# and shuffle the elements to create \n",
    "# a random list \n",
    "n = int(input(\"enter array size\\n\")) \n",
    "a = [i for i in range(1, n+1)] \n",
    "random.shuffle(a) \n",
    "\n",
    "# insertion sort \n",
    "\n",
    "\n",
    "def insertionsort(a): \n",
    "\tfor j in range(1, len(a)): \n",
    "\t\tkey = a[j] \n",
    "\t\ti = j-1\n",
    "\n",
    "\t\twhile(i >= 0 and a[i] > key): \n",
    "\t\t\ta[i+1] = a[i] \n",
    "\t\t\ti -= 1\n",
    "\n",
    "\t\t\t# yield the current position \n",
    "\t\t\t# of elements in a \n",
    "\t\t\tyield a \n",
    "\t\ta[i+1] = key \n",
    "\t\tyield a \n",
    "\n",
    "\n",
    "# generator object returned by the function \n",
    "generator = insertionsort(a) \n",
    "\n",
    "# to set the colors of the bars. \n",
    "data_normalizer = mp.colors.Normalize() \n",
    "color_map = mp.colors.LinearSegmentedColormap( \n",
    "\t\"my_map\", \n",
    "\t{ \n",
    "\t\t\"red\": [(0, 1.0, 1.0), \n",
    "\t\t\t\t(1.0, .5, .5)], \n",
    "\t\t\"green\": [(0, 0.5, 0.5), \n",
    "\t\t\t\t(1.0, 0, 0)], \n",
    "\t\t\"blue\": [(0, 0.50, 0.5), \n",
    "\t\t\t\t(1.0, 0, 0)] \n",
    "\t} \n",
    ") \n",
    "\n",
    "\n",
    "fig, ax = plt.subplots() \n",
    "\n",
    "# the bar container \n",
    "rects = ax.bar(range(len(a)), a, align=\"edge\", \n",
    "\t\t\tcolor=color_map(data_normalizer(range(n)))) \n",
    "\n",
    "# setting the view limit of x and y axes \n",
    "ax.set_xlim(0, len(a)) \n",
    "ax.set_ylim(0, int(1.1*len(a))) \n",
    "\n",
    "# the text to be shown on the upper left \n",
    "# indicating the number of iterations \n",
    "# transform indicates the position with \n",
    "# relevance to the axes coordinates. \n",
    "text = ax.text(0.01, 0.95, \"\", transform=ax.transAxes) \n",
    "iteration = [0] \n",
    "\n",
    "# function to be called repeatedly to animate \n",
    "\n",
    "\n",
    "def animate(A, rects, iteration): \n",
    "\n",
    "\t# setting the size of each bar equal \n",
    "\t# to the value of the elements \n",
    "\tfor rect, val in zip(rects, A): \n",
    "\t\trect.set_height(val) \n",
    "\n",
    "\titeration[0] += 1\n",
    "\ttext.set_text(\"iterations : {}\".format(iteration[0])) \n",
    "\n",
    "\n",
    "anim = FuncAnimation(fig, func=animate, \n",
    "\t\t\t\t\tfargs=(rects, iteration), frames=generator, interval=50, \n",
    "\t\t\t\t\trepeat=False) \n",
    "\n",
    "plt.show() "
   ]
  }
 ],
 "metadata": {
  "kernelspec": {
   "display_name": "Python 3 (ipykernel)",
   "language": "python",
   "name": "python3"
  },
  "language_info": {
   "codemirror_mode": {
    "name": "ipython",
    "version": 3
   },
   "file_extension": ".py",
   "mimetype": "text/x-python",
   "name": "python",
   "nbconvert_exporter": "python",
   "pygments_lexer": "ipython3",
   "version": "3.11.4"
  }
 },
 "nbformat": 4,
 "nbformat_minor": 5
}
